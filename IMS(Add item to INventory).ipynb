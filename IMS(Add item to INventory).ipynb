{
 "cells": [
  {
   "cell_type": "markdown",
   "id": "e021d9fd",
   "metadata": {},
   "source": [
    "\n",
    "Products"
   ]
  },
  {
   "cell_type": "code",
   "execution_count": 1,
   "id": "73051f06",
   "metadata": {},
   "outputs": [],
   "source": [
    "record = {     '101' : {'Name':'TATA Salt','Weight':'1 kg','Price':'30','Quantity':'100'},\n",
    "               '102' : {'Name':'Maggi' , 'Weight':'100 gm' , 'Price':'17' , 'Quantity':'150'},\n",
    "               '103' : {'Name':'Red Bull Energy Drink' , 'Weight':'250 ml' , 'Price':'105' , 'Quantity':'25'},\n",
    "               '104' : {'Name':'Dabur Honey' , 'Weight':'400 gm' , 'Price':'125' , 'Quantity':'30'}, \n",
    "               '105' : {'Name':'Jim Jam Biscuit' , 'Weight':'150 gm' , 'Price':'34' , 'Quantity':'50'},\n",
    "               '106' : {'Name':'Marie Gold Biscuit' , 'Weight':'250 gm' , 'Price':'30' , 'Quantity':'67'},\n",
    "               '107' : {'Name':'Nescafe Coffee' , 'Weight':'100 gm' , 'Price':'285' , 'Quantity':'45'},\n",
    "               '108' : {'Name':'Chocalate syrup' , 'Weight':'623 gm' , 'Price':'170' ,'Quantity':'10'},\n",
    "               '109' : {'Name':'Kissan Tomato Ketchup' , 'Weight':'950 gm' , 'Price':'113' , 'Quantity':'45'},\n",
    "               '110' : {'Name':'Oreo Biscuit' , 'Weight':'300 gm' , 'Price':'80' ,'Quantity':'100'},\n",
    "               '111' : {'Name':'Black Dates' , 'Weight':'800 gm' , 'Price':'299' , 'Quantity':'98'},\n",
    "               '112' : {'Name':'Red Label Tea' , 'Weight':'1 kg' , 'Price':'501' , 'Quantity':'67'},\n",
    "               '113' : {'Name':'Peanut Butter' , 'Weight':'510 gm' , 'Price':'295' , 'Quantity':'37'},\n",
    "               '114' : {'Name':'Lays Potato Chips' , 'Weight':'52 gm' , 'Price':'20' , 'Quantity':'85'},\n",
    "               '115' : {'Name':'Taj Mahal Tea' , 'Weight':'500 gm' , 'Price':'350' , 'Quantity':'64'},\n",
    "               '116' : {'Name':'Good Day cashew' , 'Weight':'200 gm' , 'Price':'35' , 'Quantity':'22'},\n",
    "               '117 ': {'Name':'Fortune Atta' , 'Weight':'10 kg' , 'Price':'150' , 'Quantity':'33'},\n",
    "               '118' : {'Name':'Kissan Jam' , 'Weight':'1 kg' , 'Price':'250' , 'Quantity':'34'},\n",
    "               '119' : {'Name':'Thumps Up' , 'Weight':'750 ml' , 'Price':'40' ,  'Quantity' :'1'},\n",
    "               '120' : {'Name':'Oats' , 'Weight':'2 kg' , 'Price':'255' ,'Quantity':'46'},\n",
    "               '121' : {'Name':'Schezwan Chutney' , 'Weight':'250 gm' , 'Price':'80' , 'Quantity':'25'},\n",
    "               '122' : {'Name':'Tide Detergent' , 'Weight':'6 kg' , 'Price':'674' , 'Quantity':'54'},\n",
    "               '123' : {'Name':'Rin' , 'Weight':'7 kg' , 'Price':'494' , 'Quantity':'96'},\n",
    "               '124' : {'Name':'Haric' , 'Weight':'1 L' , 'Price':'165' ,'Quantity':'46'},\n",
    "               '125' : {'Name':'Lizol' , 'Weight':'2 L' , 'Price':'334' , 'Quantity':'25'},\n",
    "               '126' : {'Name':'Dettol Liquid' , 'Weight':'1 L' , 'Price':'312' , 'Quantity':'54'},\n",
    "               '127' : {'Name':'Odonil' , 'Weight':'50 gm' , 'Price':'50' , 'Quantity':'96'},\n",
    "               '128' : {'Name':'Vim Bar' , 'Weight':'200 gm' , 'Price':'20' ,'Quantity':'46'},\n",
    "               '129' : {'Name':'Colgate' , 'Weight':'150 gm' , 'Price':'60' , 'Quantity':'25'},\n",
    "               '130' : {'Name':'Dettol Handwash' , 'Weight':'1.5 L' , 'Price':'198' , 'Quantity':'54'}\n",
    "          \n",
    "               \n",
    "\n",
    "           \n",
    "         \n",
    "         \n",
    "         \n",
    "         \n",
    "         \n",
    "         \n",
    "         \n",
    "          \n",
    "         }\n",
    "\n",
    "          \n",
    "    \n",
    "    \n",
    "import json\n",
    "         \n",
    "js = json.dumps(record)\n",
    "\n",
    "\n",
    "fd=open(\"product.json\",\"w\")\n",
    "fd.write(js)\n",
    "fd.close()\n",
    "\n",
    "          \n",
    "          \n",
    "          \n",
    "          \n",
    "          \n",
    "          \n",
    "          \n",
    "         \n"
   ]
  },
  {
   "cell_type": "markdown",
   "id": "428a7ed1",
   "metadata": {},
   "source": [
    "Read data from file"
   ]
  },
  {
   "cell_type": "code",
   "execution_count": 2,
   "id": "25613fb3",
   "metadata": {},
   "outputs": [],
   "source": [
    "fd = open(\"product.json\",'r')\n",
    "r = fd.read()\n",
    "fd.close()"
   ]
  },
  {
   "cell_type": "code",
   "execution_count": 4,
   "id": "d22a6295",
   "metadata": {},
   "outputs": [],
   "source": [
    "record = json.loads(r)"
   ]
  },
  {
   "cell_type": "code",
   "execution_count": 5,
   "id": "7a59ee3d",
   "metadata": {},
   "outputs": [
    {
     "data": {
      "text/plain": [
       "{'101': {'Name': 'TATA Salt',\n",
       "  'Weight': '1 kg',\n",
       "  'Price': '30',\n",
       "  'Quantity': '100'},\n",
       " '102': {'Name': 'Maggi',\n",
       "  'Weight': '100 gm',\n",
       "  'Price': '17',\n",
       "  'Quantity': '150'},\n",
       " '103': {'Name': 'Red Bull Energy Drink',\n",
       "  'Weight': '250 ml',\n",
       "  'Price': '105',\n",
       "  'Quantity': '25'},\n",
       " '104': {'Name': 'Dabur Honey',\n",
       "  'Weight': '400 gm',\n",
       "  'Price': '125',\n",
       "  'Quantity': '30'},\n",
       " '105': {'Name': 'Jim Jam Biscuit',\n",
       "  'Weight': '150 gm',\n",
       "  'Price': '34',\n",
       "  'Quantity': '50'},\n",
       " '106': {'Name': 'Marie Gold Biscuit',\n",
       "  'Weight': '250 gm',\n",
       "  'Price': '30',\n",
       "  'Quantity': '67'},\n",
       " '107': {'Name': 'Nescafe Coffee',\n",
       "  'Weight': '100 gm',\n",
       "  'Price': '285',\n",
       "  'Quantity': '45'},\n",
       " '108': {'Name': 'Chocalate syrup',\n",
       "  'Weight': '623 gm',\n",
       "  'Price': '170',\n",
       "  'Quantity': '10'},\n",
       " '109': {'Name': 'Kissan Tomato Ketchup',\n",
       "  'Weight': '950 gm',\n",
       "  'Price': '113',\n",
       "  'Quantity': '45'},\n",
       " '110': {'Name': 'Oreo Biscuit',\n",
       "  'Weight': '300 gm',\n",
       "  'Price': '80',\n",
       "  'Quantity': '100'},\n",
       " '111': {'Name': 'Black Dates',\n",
       "  'Weight': '800 gm',\n",
       "  'Price': '299',\n",
       "  'Quantity': '98'},\n",
       " '112': {'Name': 'Red Label Tea',\n",
       "  'Weight': '1 kg',\n",
       "  'Price': '501',\n",
       "  'Quantity': '67'},\n",
       " '113': {'Name': 'Peanut Butter',\n",
       "  'Weight': '510 gm',\n",
       "  'Price': '295',\n",
       "  'Quantity': '37'},\n",
       " '114': {'Name': 'Lays Potato Chips',\n",
       "  'Weight': '52 gm',\n",
       "  'Price': '20',\n",
       "  'Quantity': '85'},\n",
       " '115': {'Name': 'Taj Mahal Tea',\n",
       "  'Weight': '500 gm',\n",
       "  'Price': '350',\n",
       "  'Quantity': '64'},\n",
       " '116': {'Name': 'Good Day cashew',\n",
       "  'Weight': '200 gm',\n",
       "  'Price': '35',\n",
       "  'Quantity': '22'},\n",
       " '117 ': {'Name': 'Fortune Atta',\n",
       "  'Weight': '10 kg',\n",
       "  'Price': '150',\n",
       "  'Quantity': '33'},\n",
       " '118': {'Name': 'Kissan Jam',\n",
       "  'Weight': '1 kg',\n",
       "  'Price': '250',\n",
       "  'Quantity': '34'},\n",
       " '119': {'Name': 'Thumps Up',\n",
       "  'Weight': '750 ml',\n",
       "  'Price': '40',\n",
       "  'Quantity': '1'},\n",
       " '120': {'Name': 'Oats', 'Weight': '2 kg', 'Price': '255', 'Quantity': '46'},\n",
       " '121': {'Name': 'Schezwan Chutney',\n",
       "  'Weight': '250 gm',\n",
       "  'Price': '80',\n",
       "  'Quantity': '25'},\n",
       " '122': {'Name': 'Tide Detergent',\n",
       "  'Weight': '6 kg',\n",
       "  'Price': '674',\n",
       "  'Quantity': '54'},\n",
       " '123': {'Name': 'Rin', 'Weight': '7 kg', 'Price': '494', 'Quantity': '96'},\n",
       " '124': {'Name': 'Haric', 'Weight': '1 L', 'Price': '165', 'Quantity': '46'},\n",
       " '125': {'Name': 'Lizol', 'Weight': '2 L', 'Price': '334', 'Quantity': '25'},\n",
       " '126': {'Name': 'Dettol Liquid',\n",
       "  'Weight': '1 L',\n",
       "  'Price': '312',\n",
       "  'Quantity': '54'},\n",
       " '127': {'Name': 'Odonil', 'Weight': '50 gm', 'Price': '50', 'Quantity': '96'},\n",
       " '128': {'Name': 'Vim Bar',\n",
       "  'Weight': '200 gm',\n",
       "  'Price': '20',\n",
       "  'Quantity': '46'},\n",
       " '129': {'Name': 'Colgate',\n",
       "  'Weight': '150 gm',\n",
       "  'Price': '60',\n",
       "  'Quantity': '25'},\n",
       " '130': {'Name': 'Dettol Handwash',\n",
       "  'Weight': '1.5 L',\n",
       "  'Price': '198',\n",
       "  'Quantity': '54'}}"
      ]
     },
     "execution_count": 5,
     "metadata": {},
     "output_type": "execute_result"
    }
   ],
   "source": [
    "record"
   ]
  },
  {
   "cell_type": "code",
   "execution_count": 6,
   "id": "cb0c31ca",
   "metadata": {},
   "outputs": [
    {
     "data": {
      "text/plain": [
       "'{\"101\": {\"Name\": \"TATA Salt\", \"Weight\": \"1 kg\", \"Price\": \"30\", \"Quantity\": \"100\"}, \"102\": {\"Name\": \"Maggi\", \"Weight\": \"100 gm\", \"Price\": \"17\", \"Quantity\": \"150\"}, \"103\": {\"Name\": \"Red Bull Energy Drink\", \"Weight\": \"250 ml\", \"Price\": \"105\", \"Quantity\": \"25\"}, \"104\": {\"Name\": \"Dabur Honey\", \"Weight\": \"400 gm\", \"Price\": \"125\", \"Quantity\": \"30\"}, \"105\": {\"Name\": \"Jim Jam Biscuit\", \"Weight\": \"150 gm\", \"Price\": \"34\", \"Quantity\": \"50\"}, \"106\": {\"Name\": \"Marie Gold Biscuit\", \"Weight\": \"250 gm\", \"Price\": \"30\", \"Quantity\": \"67\"}, \"107\": {\"Name\": \"Nescafe Coffee\", \"Weight\": \"100 gm\", \"Price\": \"285\", \"Quantity\": \"45\"}, \"108\": {\"Name\": \"Chocalate syrup\", \"Weight\": \"623 gm\", \"Price\": \"170\", \"Quantity\": \"10\"}, \"109\": {\"Name\": \"Kissan Tomato Ketchup\", \"Weight\": \"950 gm\", \"Price\": \"113\", \"Quantity\": \"45\"}, \"110\": {\"Name\": \"Oreo Biscuit\", \"Weight\": \"300 gm\", \"Price\": \"80\", \"Quantity\": \"100\"}, \"111\": {\"Name\": \"Black Dates\", \"Weight\": \"800 gm\", \"Price\": \"299\", \"Quantity\": \"98\"}, \"112\": {\"Name\": \"Red Label Tea\", \"Weight\": \"1 kg\", \"Price\": \"501\", \"Quantity\": \"67\"}, \"113\": {\"Name\": \"Peanut Butter\", \"Weight\": \"510 gm\", \"Price\": \"295\", \"Quantity\": \"37\"}, \"114\": {\"Name\": \"Lays Potato Chips\", \"Weight\": \"52 gm\", \"Price\": \"20\", \"Quantity\": \"85\"}, \"115\": {\"Name\": \"Taj Mahal Tea\", \"Weight\": \"500 gm\", \"Price\": \"350\", \"Quantity\": \"64\"}, \"116\": {\"Name\": \"Good Day cashew\", \"Weight\": \"200 gm\", \"Price\": \"35\", \"Quantity\": \"22\"}, \"117 \": {\"Name\": \"Fortune Atta\", \"Weight\": \"10 kg\", \"Price\": \"150\", \"Quantity\": \"33\"}, \"118\": {\"Name\": \"Kissan Jam\", \"Weight\": \"1 kg\", \"Price\": \"250\", \"Quantity\": \"34\"}, \"119\": {\"Name\": \"Thumps Up\", \"Weight\": \"750 ml\", \"Price\": \"40\", \"Quantity\": \"1\"}, \"120\": {\"Name\": \"Oats\", \"Weight\": \"2 kg\", \"Price\": \"255\", \"Quantity\": \"46\"}, \"121\": {\"Name\": \"Schezwan Chutney\", \"Weight\": \"250 gm\", \"Price\": \"80\", \"Quantity\": \"25\"}, \"122\": {\"Name\": \"Tide Detergent\", \"Weight\": \"6 kg\", \"Price\": \"674\", \"Quantity\": \"54\"}, \"123\": {\"Name\": \"Rin\", \"Weight\": \"7 kg\", \"Price\": \"494\", \"Quantity\": \"96\"}, \"124\": {\"Name\": \"Haric\", \"Weight\": \"1 L\", \"Price\": \"165\", \"Quantity\": \"46\"}, \"125\": {\"Name\": \"Lizol\", \"Weight\": \"2 L\", \"Price\": \"334\", \"Quantity\": \"25\"}, \"126\": {\"Name\": \"Dettol Liquid\", \"Weight\": \"1 L\", \"Price\": \"312\", \"Quantity\": \"54\"}, \"127\": {\"Name\": \"Odonil\", \"Weight\": \"50 gm\", \"Price\": \"50\", \"Quantity\": \"96\"}, \"128\": {\"Name\": \"Vim Bar\", \"Weight\": \"200 gm\", \"Price\": \"20\", \"Quantity\": \"46\"}, \"129\": {\"Name\": \"Colgate\", \"Weight\": \"150 gm\", \"Price\": \"60\", \"Quantity\": \"25\"}, \"130\": {\"Name\": \"Dettol Handwash\", \"Weight\": \"1.5 L\", \"Price\": \"198\", \"Quantity\": \"54\"}}'"
      ]
     },
     "execution_count": 6,
     "metadata": {},
     "output_type": "execute_result"
    }
   ],
   "source": [
    "js"
   ]
  },
  {
   "cell_type": "markdown",
   "id": "9949fb6a",
   "metadata": {},
   "source": [
    "Add New Item To Inventory"
   ]
  },
  {
   "cell_type": "code",
   "execution_count": 31,
   "id": "3521f664",
   "metadata": {},
   "outputs": [
    {
     "name": "stdout",
     "output_type": "stream",
     "text": [
      "Enter product_ID: 131\n",
      "Enter the name of product: dairy milk\n",
      "Enter the weight of product: 12 gm\n",
      "Enter the price: 10\n",
      "Enter the quantity: 50\n"
     ]
    }
   ],
   "source": [
    "prod_id = str(input(\"Enter product_ID: \"))\n",
    "Name = str(input(\"Enter the name of product: \"))\n",
    "Weight = str(input(\"Enter the weight of product: \"))\n",
    "Price = int(input(\"Enter the price: \"))\n",
    "Quantity = int(input(\"Enter the quantity: \"))\n",
    "\n",
    "\n",
    "\n",
    "record[prod_id] = {'Name':Name, 'Weight':Weight, 'Price':Price, 'Quantity':Quantity}\n",
    "    \n",
    "\n",
    " \n",
    "  \n",
    "js= json.dumps(record)\n",
    "\n",
    "fd = open(\"product.json\",'w')\n",
    "fd.write(js)\n",
    "fd.close()\n",
    "\n",
    "\n",
    "\n"
   ]
  },
  {
   "cell_type": "code",
   "execution_count": 32,
   "id": "7d84eebb",
   "metadata": {},
   "outputs": [
    {
     "data": {
      "text/plain": [
       "{'101 ': {'Name': 'TATA Salt',\n",
       "  'Weight': '1 kg',\n",
       "  'Price': '30',\n",
       "  'Quantity': '100'},\n",
       " '102': {'Name': 'Maggi',\n",
       "  'Weight': '100 gm',\n",
       "  'Price': '17',\n",
       "  'Quantity': '150'},\n",
       " '103': {'Name': 'Red Bull Energy Drink',\n",
       "  'Weight': '250 ml',\n",
       "  'Price': '105',\n",
       "  'Quantity': '25'},\n",
       " '104': {'Name': 'Dabur Honey',\n",
       "  'Weight': '400 gm',\n",
       "  'Price': '125',\n",
       "  'Quantity': '30'},\n",
       " '105': {'Name': 'Jim Jam Biscuit',\n",
       "  'Weight': '150 gm',\n",
       "  'Price': '34',\n",
       "  'Quantity': '50'},\n",
       " '106': {'Name': 'Marie Gold Biscuit',\n",
       "  'Weight': '250 gm',\n",
       "  'Price': '30',\n",
       "  'Quantity': '67'},\n",
       " '107': {'Name': 'Nescafe Coffee',\n",
       "  'Weight': '100 gm',\n",
       "  'Price': '285',\n",
       "  'Quantity': '45'},\n",
       " '108': {'Name': 'Chocalate syrup',\n",
       "  'Weight': '623 gm',\n",
       "  'Price': '170',\n",
       "  'Quantity': '10'},\n",
       " '109': {'Name': 'Kissan Tomato Ketchup',\n",
       "  'Weight': '950 gm',\n",
       "  'Price': '113',\n",
       "  'Quantity': '45'},\n",
       " '110': {'Name': 'Oreo Biscuit',\n",
       "  'Weight': '300 gm',\n",
       "  'Price': '80',\n",
       "  'Quantity': '100'},\n",
       " '111': {'Name': 'Black Dates',\n",
       "  'Weight': '800 gm',\n",
       "  'Price': '299',\n",
       "  'Quantity': '98'},\n",
       " '112': {'Name': 'Red Label Tea',\n",
       "  'Weight': '1 kg',\n",
       "  'Price': '501',\n",
       "  'Quantity': '67'},\n",
       " '113': {'Name': 'Peanut Butter',\n",
       "  'Weight': '510 gm',\n",
       "  'Price': '295',\n",
       "  'Quantity': '37'},\n",
       " '114': {'Name': 'Lays Potato Chips',\n",
       "  'Weight': '52 gm',\n",
       "  'Price': '20',\n",
       "  'Quantity': '85'},\n",
       " '115': {'Name': 'Taj Mahal Tea',\n",
       "  'Weight': '500 gm',\n",
       "  'Price': '350',\n",
       "  'Quantity': '64'},\n",
       " '116': {'Name': 'Good Day cashew',\n",
       "  'Weight': '200 gm',\n",
       "  'Price': '35',\n",
       "  'Quantity': '22'},\n",
       " '117 ': {'Name': 'Fortune Atta',\n",
       "  'Weight': '10 kg',\n",
       "  'Price': '150',\n",
       "  'Quantity': '33'},\n",
       " '118': {'Name': 'Kissan Jam',\n",
       "  'Weight': '1 kg',\n",
       "  'Price': '250',\n",
       "  'Quantity': '34'},\n",
       " '119': {'Name': 'Thumps Up',\n",
       "  'Weight': '750 ml',\n",
       "  'Price': '40',\n",
       "  'Quantity': '1'},\n",
       " '120': {'Name': 'Oats', 'Weight': '2 kg', 'Price': '255', 'Quantity': '46'},\n",
       " '121': {'Name': 'Schezwan Chutney',\n",
       "  'Weight': '250 gm',\n",
       "  'Price': '80',\n",
       "  'Quantity': '25'},\n",
       " '122': {'Name': 'Tide Detergent',\n",
       "  'Weight': '6 kg',\n",
       "  'Price': '674',\n",
       "  'Quantity': '54'},\n",
       " '123': {'Name': 'Rin', 'Weight': '7 kg', 'Price': '494', 'Quantity': '96'},\n",
       " '124': {'Name': 'Haric', 'Weight': '1 L', 'Price': '165', 'Quantity': '46'},\n",
       " '125': {'Name': 'Lizol', 'Weight': '2 L', 'Price': '334', 'Quantity': '25'},\n",
       " '126': {'Name': 'Dettol Liquid',\n",
       "  'Weight': '1 L',\n",
       "  'Price': '312',\n",
       "  'Quantity': '54'},\n",
       " '127': {'Name': 'Odonil', 'Weight': '50 gm', 'Price': '50', 'Quantity': '96'},\n",
       " '128': {'Name': 'Vim Bar',\n",
       "  'Weight': '200 gm',\n",
       "  'Price': '20',\n",
       "  'Quantity': '46'},\n",
       " '129': {'Name': 'Colgate',\n",
       "  'Weight': '150 gm',\n",
       "  'Price': '60',\n",
       "  'Quantity': '25'},\n",
       " '130': {'Name': 'Dettol Handwash',\n",
       "  'Weight': '1.5 L',\n",
       "  'Price': '198',\n",
       "  'Quantity': '54'},\n",
       " '131': {'Name': 'dairy milk', 'Weight': '12 gm', 'Price': 10, 'Quantity': 50}}"
      ]
     },
     "execution_count": 32,
     "metadata": {},
     "output_type": "execute_result"
    }
   ],
   "source": [
    "record\n"
   ]
  },
  {
   "cell_type": "code",
   "execution_count": 19,
   "id": "071105db",
   "metadata": {},
   "outputs": [
    {
     "data": {
      "text/plain": [
       "dict_keys(['101 ', '102', '103', '104', '105', '106', '107', '108', '109', '110', '111', '112', '113', '114', '115', '116', '117 ', '118', '119', '120', '121', '122', '123', '124', '125', '126', '127', '128', '129', '130'])"
      ]
     },
     "execution_count": 19,
     "metadata": {},
     "output_type": "execute_result"
    }
   ],
   "source": [
    "record.keys()"
   ]
  },
  {
   "cell_type": "code",
   "execution_count": 20,
   "id": "e950f0d9",
   "metadata": {},
   "outputs": [
    {
     "data": {
      "text/plain": [
       "dict_values([{'Name': 'TATA Salt', 'Weight': '1 kg', 'Price': '30', 'Quantity': '100'}, {'Name': 'Maggi', 'Weight': '150 gm', 'Price': 17, 'Quantity': 10}, {'Name': 'Red Bull Energy Drink', 'Weight': '250 ml', 'Price': '105', 'Quantity': '25'}, {'Name': 'Dabur Honey', 'Weight': '400 gm', 'Price': '125', 'Quantity': '30'}, {'Name': 'Jim Jam Biscuit', 'Weight': '150 gm', 'Price': '34', 'Quantity': '50'}, {'Name': 'Marie Gold Biscuit', 'Weight': '250 gm', 'Price': '30', 'Quantity': '67'}, {'Name': 'Nescafe Coffee', 'Weight': '100 gm', 'Price': '285', 'Quantity': '45'}, {'Name': 'Chocalate syrup', 'Weight': '623 gm', 'Price': '170', 'Quantity': '10'}, {'Name': 'Kissan Tomato Ketchup', 'Weight': '950 gm', 'Price': '113', 'Quantity': '45'}, {'Name': 'Oreo Biscuit', 'Weight': '300 gm', 'Price': '80', 'Quantity': '100'}, {'Name': 'Black Dates', 'Weight': '800 gm', 'Price': '299', 'Quantity': '98'}, {'Name': 'Red Label Tea', 'Weight': '1 kg', 'Price': '501', 'Quantity': '67'}, {'Name': 'Peanut Butter', 'Weight': '510 gm', 'Price': '295', 'Quantity': '37'}, {'Name': 'Lays Potato Chips', 'Weight': '52 gm', 'Price': '20', 'Quantity': '85'}, {'Name': 'Taj Mahal Tea', 'Weight': '500 gm', 'Price': '350', 'Quantity': '64'}, {'Name': 'Good Day cashew', 'Weight': '200 gm', 'Price': '35', 'Quantity': '22'}, {'Name': 'Fortune Atta', 'Weight': '10 kg', 'Price': '150', 'Quantity': '33'}, {'Name': 'Kissan Jam', 'Weight': '1 kg', 'Price': 250, 'Quantity': 5}, {'Name': 'Thumps Up', 'Weight': '750 ml', 'Price': '40', 'Quantity': '1'}, {'Name': 'Oats', 'Weight': '2 kg', 'Price': '255', 'Quantity': '46'}, {'Name': 'Schezwan Chutney', 'Weight': '250 gm', 'Price': '80', 'Quantity': '25'}, {'Name': 'Tide Detergent', 'Weight': '6 kg', 'Price': '674', 'Quantity': '54'}, {'Name': 'Rin', 'Weight': '7 kg', 'Price': '494', 'Quantity': '96'}, {'Name': 'Haric', 'Weight': '1 L', 'Price': '165', 'Quantity': '46'}, {'Name': 'Lizol', 'Weight': '2 L', 'Price': '334', 'Quantity': '25'}, {'Name': 'Dettol Liquid', 'Weight': '1 L', 'Price': '312', 'Quantity': '54'}, {'Name': 'Odonil', 'Weight': '50 gm', 'Price': '50', 'Quantity': '96'}, {'Name': 'Vim Bar', 'Weight': '200 gm', 'Price': '20', 'Quantity': '46'}, {'Name': 'Colgate', 'Weight': '150 gm', 'Price': '60', 'Quantity': '25'}, {'Name': 'Dettol Handwash', 'Weight': '1.5 L', 'Price': '198', 'Quantity': '54'}])"
      ]
     },
     "execution_count": 20,
     "metadata": {},
     "output_type": "execute_result"
    }
   ],
   "source": [
    "record.values()\n"
   ]
  },
  {
   "cell_type": "code",
   "execution_count": 51,
   "id": "8e9671e3",
   "metadata": {},
   "outputs": [],
   "source": [
    "fd = open(\"product.json\",'r')\n",
    "txt = fd.read()\n",
    "fd.close()\n"
   ]
  },
  {
   "cell_type": "code",
   "execution_count": 52,
   "id": "d1ad1300",
   "metadata": {},
   "outputs": [
    {
     "data": {
      "text/plain": [
       "''"
      ]
     },
     "execution_count": 52,
     "metadata": {},
     "output_type": "execute_result"
    }
   ],
   "source": [
    "txt"
   ]
  },
  {
   "cell_type": "code",
   "execution_count": 26,
   "id": "32c3324d",
   "metadata": {},
   "outputs": [
    {
     "data": {
      "text/plain": [
       "str"
      ]
     },
     "execution_count": 26,
     "metadata": {},
     "output_type": "execute_result"
    }
   ],
   "source": [
    "type(txt)"
   ]
  },
  {
   "cell_type": "code",
   "execution_count": 38,
   "id": "30e9e325",
   "metadata": {},
   "outputs": [],
   "source": [
    "products = txt.split(\"\\n\")"
   ]
  },
  {
   "cell_type": "code",
   "execution_count": 40,
   "id": "180184d0",
   "metadata": {},
   "outputs": [],
   "source": [
    "for i in products:\n",
    "    prod = i.split(\",\")\n",
    "    \n",
    "    if(prod_id == prod[0]):\n",
    "        \n",
    "    "
   ]
  },
  {
   "cell_type": "code",
   "execution_count": 54,
   "id": "cdfb9423",
   "metadata": {},
   "outputs": [
    {
     "data": {
      "text/plain": [
       "' \"Weight\": \"100 gm\"'"
      ]
     },
     "execution_count": 54,
     "metadata": {},
     "output_type": "execute_result"
    }
   ],
   "source": [
    "prod[25]\n",
    "\n"
   ]
  },
  {
   "cell_type": "code",
   "execution_count": null,
   "id": "8d3bbe11",
   "metadata": {},
   "outputs": [],
   "source": []
  }
 ],
 "metadata": {
  "kernelspec": {
   "display_name": "Python 3",
   "language": "python",
   "name": "python3"
  },
  "language_info": {
   "codemirror_mode": {
    "name": "ipython",
    "version": 3
   },
   "file_extension": ".py",
   "mimetype": "text/x-python",
   "name": "python",
   "nbconvert_exporter": "python",
   "pygments_lexer": "ipython3",
   "version": "3.8.8"
  }
 },
 "nbformat": 4,
 "nbformat_minor": 5
}
